{
 "cells": [
  {
   "cell_type": "code",
   "execution_count": 160,
   "metadata": {},
   "outputs": [],
   "source": [
    "from selenium import webdriver\n",
    "import time\n"
   ]
  },
  {
   "cell_type": "markdown",
   "metadata": {},
   "source": [
    "### nate 아이디로 메일 보내기"
   ]
  },
  {
   "cell_type": "code",
   "execution_count": 167,
   "metadata": {},
   "outputs": [],
   "source": [
    "dr = webdriver.Chrome('chromedriver_win32/chromedriver.exe')\n",
    "\n",
    "dr.get('https://nate.com')\n"
   ]
  },
  {
   "cell_type": "code",
   "execution_count": 168,
   "metadata": {},
   "outputs": [],
   "source": [
    "dr.find_element_by_id('ID').send_keys(아이디))\n",
    "dr.find_element_by_id('PASSDM').send_keys(비밀번호)\n",
    "dr.find_element_by_id('btnLOGIN').click()\n",
    "# 로그인"
   ]
  },
  {
   "cell_type": "code",
   "execution_count": 103,
   "metadata": {},
   "outputs": [],
   "source": [
    "dr.find_element_by_id('q').send_keys('안녕하세요')\n",
    "dr.find_element_by_id('acBtn').click()\n",
    "# 안녕하세요 검색"
   ]
  },
  {
   "cell_type": "code",
   "execution_count": 104,
   "metadata": {},
   "outputs": [],
   "source": [
    "dr.find_element_by_id('daumLogo').click()\n",
    "# 홈 이동"
   ]
  },
  {
   "cell_type": "code",
   "execution_count": 169,
   "metadata": {},
   "outputs": [],
   "source": [
    "dr.find_element_by_xpath('/html/body/div[1]/div[2]/div[2]/div[1]/div[2]/span[1]').click()\n",
    "#메일로 이동\n",
    "dr.find_element_by_xpath('//*[@id=\"nmWriteBtn\"]/div/a[1]').click()\n",
    "#메일 쓰기"
   ]
  },
  {
   "cell_type": "code",
   "execution_count": 170,
   "metadata": {
    "scrolled": true
   },
   "outputs": [],
   "source": [
    "\n",
    "\n",
    "dr.find_element_by_xpath('/html/body/div[8]/div[4]/div/div/div[1]/div[2]/div[5]/div[2]/div/div[2]/div[1]/div[4]/div[2]/div[1]/input').send_keys('안녕하세요')\n",
    "\n",
    "dr.find_element_by_xpath('//*[@id=\"textArea_to\"]/textarea').send_keys(받는 사람 이메일)\n",
    "\n",
    "# dr.find_element_by_xpath('/html/body/div[8]/div[4]/div/div/div[1]/div[2]/div[5]/div[2]/div/div[1]/div[1]/div[1]/button').click()"
   ]
  },
  {
   "cell_type": "code",
   "execution_count": 43,
   "metadata": {},
   "outputs": [],
   "source": [
    "dr.find_element_by_xpath('/html/body/div[1]/div[2]/div[2]/div[1]/div[1]/span[2]/button').click()\n",
    "# 로그아웃"
   ]
  },
  {
   "cell_type": "code",
   "execution_count": 171,
   "metadata": {},
   "outputs": [],
   "source": [
    "dr.close()"
   ]
  },
  {
   "cell_type": "code",
   "execution_count": null,
   "metadata": {},
   "outputs": [],
   "source": []
  },
  {
   "cell_type": "code",
   "execution_count": 178,
   "metadata": {},
   "outputs": [],
   "source": [
    "import time\n",
    "\n",
    "dr = webdriver.Chrome('chromedriver_win32/chromedriver.exe')\n",
    "# 자기 경로에 맞게 수정\n",
    "\n",
    "dr.get('https://nate.com')\n",
    "time.sleep(1)\n",
    "\n",
    "dr.find_element_by_id('ID').send_keys(아이디)\n",
    "time.sleep(0.5)\n",
    "\n",
    "dr.find_element_by_id('PASSDM').send_keys(비밀번호)\n",
    "time.sleep(0.5)\n",
    "\n",
    "dr.find_element_by_id('btnLOGIN').click()\n",
    "time.sleep(0.5)\n",
    "# 로그인\n",
    "\n",
    "dr.find_element_by_xpath('/html/body/div[1]/div[2]/div[2]/div[1]/div[2]/span[1]').click()\n",
    "time.sleep(0.5)\n",
    "#메일로 이동\n",
    "\n",
    "dr.find_element_by_xpath('//*[@id=\"nmWriteBtn\"]/div/a[1]').click()\n",
    "time.sleep(0.5)\n",
    "#메일 쓰기\n",
    "\n",
    "\n",
    "dr.find_element_by_xpath('/html/body/div[8]/div[4]/div/div/div[1]/div[2]/div[5]/div[2]/div/div[2]/div[1]/div[4]/div[2]/div[1]/input').send_keys('안녕하세요')\n",
    "time.sleep(0.5)\n",
    "\n",
    "dr.find_element_by_xpath('//*[@id=\"textArea_to\"]/textarea').send_keys(받는 사람 이메일)\n",
    "time.sleep(0.5)\n",
    "\n",
    "dr.find_element_by_xpath('/html/body/div[8]/div[4]/div/div/div[1]/div[2]/div[5]/div[2]/div/div[1]/div[1]/div[1]/button').click()\n",
    "time.sleep(0.5)"
   ]
  },
  {
   "cell_type": "code",
   "execution_count": null,
   "metadata": {},
   "outputs": [],
   "source": []
  },
  {
   "cell_type": "code",
   "execution_count": null,
   "metadata": {},
   "outputs": [],
   "source": []
  },
  {
   "cell_type": "markdown",
   "metadata": {},
   "source": [
    "### kakao 아이디로 daum 메일 보내기"
   ]
  },
  {
   "cell_type": "code",
   "execution_count": 145,
   "metadata": {},
   "outputs": [],
   "source": [
    "dr = webdriver.Chrome('chromedriver_win32/chromedriver.exe')\n",
    "\n",
    "dr.get('https://daum.net')\n",
    "# 접속"
   ]
  },
  {
   "cell_type": "code",
   "execution_count": 146,
   "metadata": {},
   "outputs": [],
   "source": [
    "dr.find_element_by_xpath('/html/body/div[2]/main/div[1]/article/div[1]/div[2]/div/a[2]').click()\n",
    "# 로그인 버튼\n",
    "time.sleep(0.5)\n",
    "\n",
    "dr.find_element_by_xpath('/html/body/div[1]/div[2]/div/div/div/div/div[2]/div/form/fieldset/div[2]/div/input').send_keys(아이디)\n",
    "time.sleep(0.5)\n",
    "# 아이디 입력\n",
    "\n",
    "dr.find_element_by_xpath('/html/body/div[1]/div[2]/div/div/div/div/div[2]/div/form/fieldset/div[3]/input').send_keys(비밀번호)\n",
    "time.sleep(0.5)\n",
    "# 비밀번호 입력\n",
    "\n",
    "dr.find_element_by_xpath('/html/body/div[1]/div[2]/div/div/div/div/div[2]/div/form/fieldset/div[8]/button[1]').click()\n",
    "time.sleep(0.5)\n",
    "# 로그인 버튼"
   ]
  },
  {
   "cell_type": "code",
   "execution_count": 149,
   "metadata": {},
   "outputs": [],
   "source": [
    "dr.find_element_by_xpath('/html/body/div[2]/main/div[1]/article/div[1]/div[2]/ul/li[1]/a').click()\n",
    "time.sleep(0.5)\n",
    "# 메일 "
   ]
  },
  {
   "cell_type": "code",
   "execution_count": 150,
   "metadata": {},
   "outputs": [],
   "source": [
    "dr.find_element_by_xpath('/html/body/div[2]/div[2]/div[2]/div[1]/button[1]').click()\n",
    "time.sleep(0.5)\n",
    "# 메일 쓰기 클릭\n",
    "\n",
    "dr.find_element_by_xpath('/html/body/div[2]/div[3]/div/div[2]/div/div[1]/div[3]/div[2]/div[2]/div[3]/ul/li[3]/button').click()\n",
    "time.sleep(0.5)\n",
    "# 에디터 text로 변경\n",
    "\n",
    "dr.find_element_by_xpath('/html/body/div[2]/div[4]/div/div[2]/span/button[1]').click()\n",
    "time.sleep(0.5)\n",
    "# 확인"
   ]
  },
  {
   "cell_type": "code",
   "execution_count": 151,
   "metadata": {},
   "outputs": [],
   "source": [
    "dr.find_element_by_xpath('/html/body/div[2]/div[3]/div/div[2]/div/div[1]/div[3]/div[2]/dl/dd[2]/div/div[2]/textarea').send_keys(받는 사람 이메일)\n",
    "time.sleep(0.5)\n",
    "# 이메일 입력\n",
    "\n",
    "dr.find_element_by_xpath('/html/body/div[2]/div[3]/div/div[2]/div/div[1]/div[3]/div[2]/dl/dt[6]').click()\n",
    "time.sleep(0.5)\n",
    "# 빈 공간 클릭해서 받는 사람 빠져나오기\n",
    "\n",
    "dr.find_element_by_xpath('//*[@id=\"mailSubject\"]').send_keys('테스트입니다')\n",
    "time.sleep(0.5)\n",
    "# 제목\n",
    "\n",
    "dr.find_element_by_xpath('/html/body/div[2]/div[3]/div/div[2]/div/div[1]/div[3]/div[2]/div[2]/div[2]/div[1]/div/div[3]/textarea').send_keys('hi')\n",
    "time.sleep(0.5)\n",
    "# 내용"
   ]
  },
  {
   "cell_type": "code",
   "execution_count": 152,
   "metadata": {},
   "outputs": [],
   "source": [
    "dr.find_element_by_xpath('/html/body/div[2]/div[3]/div/div[2]/div/div[1]/div[2]/div/div/button[1]').click()\n",
    "# 보내기"
   ]
  },
  {
   "cell_type": "code",
   "execution_count": 162,
   "metadata": {},
   "outputs": [],
   "source": [
    "dr.close()"
   ]
  },
  {
   "cell_type": "code",
   "execution_count": null,
   "metadata": {},
   "outputs": [],
   "source": []
  },
  {
   "cell_type": "code",
   "execution_count": 184,
   "metadata": {},
   "outputs": [],
   "source": [
    "dr = webdriver.Chrome('chromedriver_win32/chromedriver.exe')\n",
    "# 자기 경로에 맞게 수정\n",
    "\n",
    "dr.get('https://daum.net')\n",
    "time.sleep(1)\n",
    "# 접속\n",
    "\n",
    "dr.find_element_by_xpath('/html/body/div[2]/main/div[1]/article/div[1]/div[2]/div/a[2]').click()\n",
    "# 로그인 버튼\n",
    "time.sleep(0.5)\n",
    "\n",
    "dr.find_element_by_xpath('/html/body/div[1]/div[2]/div/div/div/div/div[2]/div/form/fieldset/div[2]/div/input').send_keys('아이디')\n",
    "time.sleep(0.5)\n",
    "# 아이디 입력\n",
    "\n",
    "dr.find_element_by_xpath('/html/body/div[1]/div[2]/div/div/div/div/div[2]/div/form/fieldset/div[3]/input').send_keys('비밀번호')\n",
    "time.sleep(0.5)\n",
    "# 비밀번호 입력\n",
    "\n",
    "dr.find_element_by_xpath('/html/body/div[1]/div[2]/div/div/div/div/div[2]/div/form/fieldset/div[8]/button[1]').click()\n",
    "time.sleep(0.5)\n",
    "# 로그인 버튼\n",
    "\n",
    "dr.find_element_by_xpath('/html/body/div[2]/main/div[1]/article/div[1]/div[2]/ul/li[1]/a').click()\n",
    "time.sleep(0.5)\n",
    "# 메일 \n",
    "\n",
    "dr.find_element_by_xpath('/html/body/div[2]/div[2]/div[2]/div[1]/button[1]').click()\n",
    "time.sleep(0.5)\n",
    "# 메일 쓰기 클릭\n",
    "\n",
    "dr.find_element_by_xpath('/html/body/div[2]/div[3]/div/div[2]/div/div[1]/div[3]/div[2]/div[2]/div[3]/ul/li[3]/button').click()\n",
    "time.sleep(0.5)\n",
    "# 에디터 text로 변경\n",
    "\n",
    "dr.find_element_by_xpath('/html/body/div[2]/div[4]/div/div[2]/span/button[1]').click()\n",
    "time.sleep(0.5)\n",
    "# 확인\n",
    "\n",
    "dr.find_element_by_xpath('/html/body/div[2]/div[3]/div/div[2]/div/div[1]/div[3]/div[2]/dl/dd[2]/div/div[2]/textarea').send_keys('받는 사람 이메일')\n",
    "time.sleep(0.5)\n",
    "# 이메일 입력\n",
    "\n",
    "dr.find_element_by_xpath('/html/body/div[2]/div[3]/div/div[2]/div/div[1]/div[3]/div[2]/dl/dt[6]').click()\n",
    "time.sleep(0.5)\n",
    "# 빈 공간 클릭해서 받는 사람 빠져나오기\n",
    "\n",
    "dr.find_element_by_xpath('//*[@id=\"mailSubject\"]').send_keys('제목')\n",
    "time.sleep(0.5)\n",
    "# 제목\n",
    "\n",
    "dr.find_element_by_xpath('/html/body/div[2]/div[3]/div/div[2]/div/div[1]/div[3]/div[2]/div[2]/div[2]/div[1]/div/div[3]/textarea').send_keys('내용')\n",
    "time.sleep(0.5)\n",
    "# 내용\n",
    "\n",
    "dr.find_element_by_xpath('/html/body/div[2]/div[3]/div/div[2]/div/div[1]/div[2]/div/div/button[1]').click()\n",
    "# 보내기"
   ]
  },
  {
   "cell_type": "code",
   "execution_count": null,
   "metadata": {},
   "outputs": [],
   "source": []
  },
  {
   "cell_type": "code",
   "execution_count": null,
   "metadata": {},
   "outputs": [],
   "source": []
  },
  {
   "cell_type": "markdown",
   "metadata": {},
   "source": [
    "### daum 아이디로 메일 보내기"
   ]
  },
  {
   "cell_type": "code",
   "execution_count": 173,
   "metadata": {},
   "outputs": [],
   "source": [
    "dr = webdriver.Chrome('chromedriver_win32/chromedriver.exe')\n",
    "\n",
    "dr.get('https://daum.net')\n",
    "# 접속\n",
    "time.sleep(2)\n",
    "\n",
    "dr.find_element_by_xpath('/html/body/div[2]/main/div[1]/article/div[1]/div[2]/div/a[1]').click()\n",
    "# 로그인 버튼\n",
    "time.sleep(0.5)\n",
    "\n",
    "dr.find_element_by_xpath('/html/body/div/div[2]/div/div[1]/div/form/fieldset/div[1]/input').send_keys(아이디)\n",
    "time.sleep(0.5)\n",
    "# 아이디 입력\n",
    "\n",
    "dr.find_element_by_xpath('/html/body/div/div[2]/div/div[1]/div/form/fieldset/div[2]/input').send_keys(비밀번호)\n",
    "time.sleep(0.5)\n",
    "# 비밀번호 입력\n",
    "\n",
    "dr.find_element_by_xpath('/html/body/div/div[2]/div/div[1]/div/form/fieldset/button').click()\n",
    "time.sleep(0.5)\n",
    "# 로그인 버튼\n",
    "\n",
    "dr.find_element_by_xpath('/html/body/div[2]/main/div[1]/article/div[1]/div[2]/ul/li[1]/a').click()\n",
    "time.sleep(0.5)\n",
    "# 메일 \n",
    "\n",
    "dr.find_element_by_xpath('/html/body/div[2]/div[2]/div[2]/div[1]/button[1]').click()\n",
    "time.sleep(0.5)\n",
    "# 메일 쓰기 클릭\n",
    "\n",
    "dr.find_element_by_xpath('/html/body/div[2]/div[3]/div/div[2]/div/div[1]/div[3]/div[2]/div[2]/div[3]/ul/li[3]/button').click()\n",
    "time.sleep(0.5)\n",
    "# 에디터 text로 변경\n",
    "\n",
    "dr.find_element_by_xpath('/html/body/div[2]/div[4]/div/div[2]/span/button[1]').click()\n",
    "time.sleep(0.5)\n",
    "# 확인\n",
    "\n",
    "dr.find_element_by_xpath('/html/body/div[2]/div[3]/div/div[2]/div/div[1]/div[3]/div[2]/dl/dd[2]/div/div[2]/textarea').send_keys(이메일)\n",
    "time.sleep(0.5)\n",
    "# 이메일 입력\n",
    "\n",
    "dr.find_element_by_xpath('/html/body/div[2]/div[3]/div/div[2]/div/div[1]/div[3]/div[2]/dl/dt[6]').click()\n",
    "time.sleep(0.5)\n",
    "# 빈 공간 클릭해서 받는 사람 빠져나오기\n",
    "\n",
    "dr.find_element_by_xpath('//*[@id=\"mailSubject\"]').send_keys('테스트입니다')\n",
    "time.sleep(0.5)\n",
    "# 제목\n",
    "\n",
    "dr.find_element_by_xpath('/html/body/div[2]/div[3]/div/div[2]/div/div[1]/div[3]/div[2]/div[2]/div[2]/div[1]/div/div[3]/textarea').send_keys('hi')\n",
    "time.sleep(0.5)\n",
    "# 내용\n",
    "\n",
    "dr.find_element_by_xpath('/html/body/div[2]/div[3]/div/div[2]/div/div[1]/div[2]/div/div/button[1]').click()\n",
    "# 보내기\n",
    "time.sleep(0.5)\n",
    "\n"
   ]
  },
  {
   "cell_type": "code",
   "execution_count": 175,
   "metadata": {},
   "outputs": [],
   "source": [
    "dr.close()"
   ]
  }
 ],
 "metadata": {
  "kernelspec": {
   "display_name": "Python 3",
   "language": "python",
   "name": "python3"
  },
  "language_info": {
   "codemirror_mode": {
    "name": "ipython",
    "version": 3
   },
   "file_extension": ".py",
   "mimetype": "text/x-python",
   "name": "python",
   "nbconvert_exporter": "python",
   "pygments_lexer": "ipython3",
   "version": "3.8.5"
  }
 },
 "nbformat": 4,
 "nbformat_minor": 4
}
